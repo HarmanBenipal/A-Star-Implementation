{
 "cells": [
  {
   "cell_type": "markdown",
   "metadata": {},
   "source": [
    "<center><h1> Artifical and Computational Intelligence Assignment 1 </h1></center>\n",
    " "
   ]
  },
  {
   "cell_type": "markdown",
   "metadata": {},
   "source": [
    "<b>1) Define the environment representation in the following code block</b>"
   ]
  },
  {
   "cell_type": "markdown",
   "metadata": {},
   "source": [
    "#PEAS Description of the task environment here :\n",
    "\n",
    "PEAS stands for Performance, Environment, Actuators, and Sensors.Based on these properties of an agent, they can be grouped together or can be differentiated from each other. Each agent has these following properties defines for it.\n",
    "\n",
    "Performance:\n",
    "The output which we get from the agent. All the necessary results that an agent gives after processing comes under its performance.In this case it would be a safe journey from Panaji(source) to Chennai(destination) in most comfortable way and in minimum time.\n",
    "\n",
    "Environment:\n",
    "All the surrounding things and conditions of an agent fall in this section. It basically consists of all the things under which the agents work.\n",
    "\n",
    "Actuators:\n",
    "The devices, hardware or software through which the agent performs any actions or processes any information to produce a result are the actuators of the agent.In this case it would be steering car left or right and applying brakes or pressing accelerator.\n",
    "\n",
    "Sensors:\n",
    "The devices through which the agent observes and perceives its environment are the sensors of the agent.For this case it can be temperature sensors or it may be automatic wipers incase of rain."
   ]
  },
  {
   "cell_type": "markdown",
   "metadata": {},
   "source": [
    "#Environment representation goes here\n",
    "As we have already mentioned about Environment,All the surrounding things and conditions of an agent fall in this \n",
    "section. It basically consists of all the things under which the agents work.\n",
    "\n",
    "Environment: The road on which the Car is being driven,other cars present on the road, pedestrians, crossings, \n",
    "road signs, traffic signals, etc. , all act as its environment."
   ]
  },
  {
   "cell_type": "markdown",
   "metadata": {},
   "source": [
    "<b>Define the haversine formula and what it does</b>"
   ]
  },
  {
   "cell_type": "markdown",
   "metadata": {},
   "source": [
    "#haversine formula representation \n",
    "\n",
    "<b>Definition</b>: The Haversine formula calculates the shortest distance between two points on a sphere using their latitudes and longitudes measured along the surface. It is important for use in navigation."
   ]
  },
  {
   "cell_type": "markdown",
   "metadata": {},
   "source": [
    "<b>2) Define a function which calculates the heuristic distance from each city to the destination city in the following code block</b>"
   ]
  },
  {
   "cell_type": "markdown",
   "metadata": {},
   "source": [
    "The haversine can be expressed in trignometric function as:\n",
    "haversine(\\theta)=sin^2\\Big(\\frac{\\theta}{2}\\Big)\n",
    "\n",
    "The haversine of the central angle (which is d/r) is calculated by the following formula:\n",
    "\n",
    "\\largehaversine\\Big(\\frac{d}{r}\\Big)=haversine(\\Phi_2-\\Phi_1)+ cos(\\Phi_1)cos(\\Phi_2)haversine(\\lambda_2-\\lambda_1)\n",
    "\n",
    "where r is the radius of earth(6371 km), d is the distance between two points, \\phi_1, \\phi_2 \n",
    "is latitude of the two points and \\lambda_1, \\lambda_2 is longitude of the two points respectively.\n",
    "\n",
    "Solving d by applying the inverse haversine or by using the inverse sine function, we get:\n",
    "\n",
    "d = r hav^{-1}(h) = 2r sin^{-1}(\\sqrt{h})\n",
    "\n",
    "or\n",
    "\n",
    "d = 2r sin^{-1}\\bigg(\\sqrt{sin^2\\Big(\\frac{\\Phi_2-\\Phi_1}{2}\\Big)+cos(\\Phi_1)cos(\\Phi_2)sin^2\\Big(\\frac{\\lambda_2-\\lambda_1}{2}\\Big)}\\ \\bigg)\n",
    "\n",
    "The distance between Big Ben in London (51.5007° N, 0.1246° W) and The Statue of Liberty in\n",
    "New York (40.6892° N, 74.0445° W) is 5574.8 km. This is not the exact measurement because the\n",
    "formula assumes that the Earth is a perfect sphere when in fact it is an oblate spheroid.\n",
    "\n",
    "<b>Below is the implementation of the above formulae:</b>\n"
   ]
  },
  {
   "cell_type": "code",
   "execution_count": 1,
   "metadata": {},
   "outputs": [],
   "source": [
    "import math \n",
    "def calculate_haversine(lat1, lon1, lat2, lon2): \n",
    "      \n",
    "    # distance between latitudes and longitudes \n",
    "    dLat = (lat2 - lat1) * math.pi / 180.0\n",
    "    dLon = (lon2 - lon1) * math.pi / 180.0\n",
    "  \n",
    "    # convert to radians \n",
    "    lat1 = (lat1) * math.pi / 180.0\n",
    "    lat2 = (lat2) * math.pi / 180.0\n",
    "  \n",
    "    # apply formulae \n",
    "    a = (pow(math.sin(dLat / 2), 2) + \n",
    "         pow(math.sin(dLon / 2), 2) * \n",
    "             math.cos(lat1) * math.cos(lat2)); \n",
    "    rad = 6371\n",
    "    c = 2 * math.asin(math.sqrt(a)) \n",
    "    return rad * c "
   ]
  },
  {
   "cell_type": "markdown",
   "metadata": {},
   "source": [
    "3) Implementation of A* Algorithm . Feel free to add code blocks for each methods needed starting here.\n",
    "Please modularize the implementation of A* and write each of them in a code block. "
   ]
  },
  {
   "cell_type": "code",
   "execution_count": 2,
   "metadata": {},
   "outputs": [],
   "source": [
    "from collections import deque\n",
    "\n",
    "class Assignment:\n",
    "    \n",
    "    path_cost=0\n",
    "    \n",
    "    open_list = set([])\n",
    "    visted_list = set([])\n",
    "    visited_nodes=0;\n",
    "\n",
    "    def __init__(self, adjacency_list,longitude_lattitude_list):\n",
    "        self.adjacency_list = adjacency_list\n",
    "        self.longitude_lattitude_list=longitude_lattitude_list\n",
    "\n",
    "    def get_neighbors(self, v):\n",
    "        return self.adjacency_list[v]\n",
    "\n",
    "\n",
    "    def heuristics(self, n,stop_node):\n",
    "        return calculate_haversine(self.longitude_lattitude_list[n][0],self.longitude_lattitude_list[n][1],self.longitude_lattitude_list[stop_node][0],self.longitude_lattitude_list[stop_node][1])\n",
    "\n",
    "    def calculate_a_star(self, start_node, stop_node):\n",
    "        # open_list is a list of nodes which have been visited, but who's neighbors\n",
    "        # haven't all been inspected, starts off with the start node\n",
    "        # visted_listclosed_list is a list of nodes which have been visited\n",
    "        # and who's neighbors have been inspected\n",
    "        \n",
    "\n",
    "        # g contains current distances from start_node to all other nodes\n",
    "        # the default value (if it's not found in the map) is +infinity\n",
    "        g = {}\n",
    "\n",
    "        g[start_node] = 0\n",
    "        self.visited_nodes=1\n",
    "        \n",
    "        self.open_list = set([start_node])\n",
    "\n",
    "        # parents contains an adjacency map of all nodes\n",
    "        parents = {}\n",
    "        parents[start_node] = start_node\n",
    "\n",
    "        while len(self.open_list) > 0:\n",
    "            node = None \n",
    "\n",
    "            # find a node with the lowest value of f(node) - evaluation function\n",
    "            for v in self.open_list:\n",
    "                if node == None or g[v] + self.heuristics(v,stop_node) < g[node] + self.heuristics(node,stop_node):\n",
    "                    node = v;\n",
    "            \n",
    "            if node == None:\n",
    "                print('Path does not exist!')\n",
    "                return None\n",
    "\n",
    "            # if the current node is the stop_node\n",
    "            # then we begin reconstruct in the path from it to the start_node\n",
    "            if node == stop_node:\n",
    "#                 print(node)\n",
    "#                 print(g[node])\n",
    "                self.path_cost=self.path_cost+g[node]\n",
    "                reconst_path = []\n",
    "\n",
    "                \n",
    "                while parents[node] != node:\n",
    "                    reconst_path.append(node)\n",
    "                    node = parents[node]\n",
    "                reconst_path.append(start_node)\n",
    "\n",
    "                reconst_path.reverse()\n",
    "\n",
    "                print('Path : {}'.format(reconst_path))\n",
    "                print(self.visited_nodes)\n",
    "                return reconst_path\n",
    "\n",
    "            # for all neighbors of the current node do\n",
    "            for (m, weight) in self.get_neighbors(node):\n",
    "                # if the current node isn't in both open_list and visted_list\n",
    "                # add it to open_list and note n as it's parent\n",
    "                if m not in self.open_list and m not in self.visted_list:\n",
    "                    self.open_list.add(m)\n",
    "                    \n",
    "                    self.visited_nodes=self.visited_nodes+1;\n",
    "                    parents[m] = node\n",
    "                    g[m] = g[node] + weight\n",
    "\n",
    "                # otherwise, check if it's quicker to first visit n, then m\n",
    "                # and if it is, update parent data and g data\n",
    "                # and if the node was in the visted_list, move it to open_list\n",
    "                else:\n",
    "                    if g[m] > g[node] + weight:\n",
    "                        g[m] = g[node] + weight\n",
    "                        parents[m] = node\n",
    "                        if m in self.visted_list:\n",
    "                            self.visted_list.remove(m)\n",
    "                            self.open_list.add(m)\n",
    "                            self.visited_nodes=self.visited_nodes+1;\n",
    "           \n",
    "            # remove n from the open_list, and add it to visted_listclosed_list\n",
    "            # because all of his neighbors were inspected\n",
    "        \n",
    "            self.open_list.remove(node)\n",
    "            self.visted_list.add(node)\n",
    "    \n",
    "        print('Path does not exist')\n",
    "       \n",
    "        return None\n",
    "    \n",
    "    def get_nodes_in_path(self):\n",
    "        return len(self.visted_list)\n",
    "    \n",
    "    def get_nodes_visited(self):\n",
    "        return self.visited_nodes\n",
    "    \n",
    "    def cost_of_path(self):\n",
    "        return self.path_cost\n"
   ]
  },
  {
   "cell_type": "markdown",
   "metadata": {},
   "source": [
    "<b>Call your main function/algorithm block in the next code block with appropriate input representation</b>"
   ]
  },
  {
   "cell_type": "code",
   "execution_count": 3,
   "metadata": {},
   "outputs": [
    {
     "name": "stdout",
     "output_type": "stream",
     "text": [
      "Path : ['Panji', 'Bellar', 'Tirupati', 'Chennai']\n",
      "9\n"
     ]
    }
   ],
   "source": [
    "adjacency_list = {\n",
    "    'Panji': [('Mangalore', 365),('Bellar', 409),('Raichur',457)],\n",
    "    'Raichur': [('Panji', 457), ('Tirupati', 453), ('Kurnool', 100)],   \n",
    "    'Tirupati': [('Kurnool', 340),('Bellar',379),('Chennai',153),('Nellore',136),('Raichur',453)],\n",
    "    'Kurnool':[('Tirupati', 340),('Nellore',325),('Raichur',100)],\n",
    "    'Mangalore':[('Kozhikode', 233),('Bangalore',352),('Panji', 365)],\n",
    "    'Bellar':[('Bangalore', 311),('Panji', 409),('Tirupati', 379)],\n",
    "    'Kozhikode':[('Bangalore',356),('Mangalore', 233)],\n",
    "    'Bangalore':[('Chennai',346),('Mangalore', 352),('Bellar',311),('Kozhikode',356),],\n",
    "    'Nellore':[('Tirupati',136),('Kurnool',325),('Chennai',175)],\n",
    "    'Chennai':[('Nellore',175),('Bangalore',346),('Tirupati',153)]\n",
    "    \n",
    "}\n",
    "\n",
    "longitude_lattitude_list={\n",
    "    'Panji':[15.4909,73.8278],\n",
    "    'Raichur':[16.2076,77.3463],\n",
    "    'Mangalore':[12.9141,74.8560],\n",
    "    'Bellar':[15.1394,76.9214],\n",
    "    'Tirupati':[13.6288,79.4192],\n",
    "    'Kurnool':[15.8281,78.0373],\n",
    "    'Kozhikode':[11.2588,75.7804],\n",
    "    'Bangalore':[12.9716,77.5946],\n",
    "    'Nellore':[14.4426,79.9865],\n",
    "    'Chennai':[13.0827,80.2707]\n",
    "}\n",
    "\n",
    "assignment = Assignment(adjacency_list,longitude_lattitude_list)\n",
    "path_taken = assignment.calculate_a_star('Panji', 'Chennai')\n",
    "# calculate_haversine(longitude_lattitude_list['Tirupati'][0],longitude_lattitude_list['Tirupati'][1],longitude_lattitude_list['Chennai'][0],longitude_lattitude_list['Chennai'][1])"
   ]
  },
  {
   "cell_type": "markdown",
   "metadata": {},
   "source": [
    "The agent should provide expected output for questions mentioned below in the subsequent blocks"
   ]
  },
  {
   "cell_type": "markdown",
   "metadata": {},
   "source": [
    "<b>(3.1) Path taken to reach destination from Panaji</b>"
   ]
  },
  {
   "cell_type": "code",
   "execution_count": 4,
   "metadata": {},
   "outputs": [
    {
     "name": "stdout",
     "output_type": "stream",
     "text": [
      "Path taken to reach destination from Panaji to Chennai: ['Panji', 'Bellar', 'Tirupati', 'Chennai']\n"
     ]
    }
   ],
   "source": [
    "# Execute statement to retrieve the path taken here\n",
    "print('Path taken to reach destination from Panaji to Chennai: {}'.format(path_taken))"
   ]
  },
  {
   "cell_type": "markdown",
   "metadata": {},
   "source": [
    "<b>(3.2) Cost of the path</b>"
   ]
  },
  {
   "cell_type": "code",
   "execution_count": 5,
   "metadata": {},
   "outputs": [
    {
     "name": "stdout",
     "output_type": "stream",
     "text": [
      "941\n"
     ]
    }
   ],
   "source": [
    "# Execute statement to retrieve the cost of the path here\n",
    "print(assignment.cost_of_path())"
   ]
  },
  {
   "cell_type": "markdown",
   "metadata": {},
   "source": [
    "<b>(3.3) Total Number of nodes vistied to get this state</b>"
   ]
  },
  {
   "cell_type": "code",
   "execution_count": 6,
   "metadata": {},
   "outputs": [
    {
     "name": "stdout",
     "output_type": "stream",
     "text": [
      "Total nodes in path>>>>>>\n",
      "4\n",
      "Total visited nodes in path>>>>>>\n",
      "9\n"
     ]
    }
   ],
   "source": [
    "# Execute statement to retrieve the total number of nodes visited to get this state here\n",
    "print(\"Total nodes in path>>>>>>\")\n",
    "print(assignment.get_nodes_in_path())\n",
    "print(\"Total visited nodes in path>>>>>>\")\n",
    "print(assignment.get_nodes_visited())"
   ]
  }
 ],
 "metadata": {
  "kernelspec": {
   "display_name": "Python 3",
   "language": "python",
   "name": "python3"
  },
  "language_info": {
   "codemirror_mode": {
    "name": "ipython",
    "version": 3
   },
   "file_extension": ".py",
   "mimetype": "text/x-python",
   "name": "python",
   "nbconvert_exporter": "python",
   "pygments_lexer": "ipython3",
   "version": "3.7.4"
  }
 },
 "nbformat": 4,
 "nbformat_minor": 2
}
